{
 "cells": [
  {
   "cell_type": "code",
   "execution_count": 13,
   "metadata": {},
   "outputs": [
    {
     "name": "stdout",
     "output_type": "stream",
     "text": [
      "Requirement already satisfied: numpy in /home/hegnatin/projects/DS/.venv/lib/python3.4/site-packages (1.15.2)\n",
      "Requirement already satisfied: sympy in /home/hegnatin/projects/DS/.venv/lib/python3.4/site-packages (1.3)\n",
      "Requirement already satisfied: mpmath>=0.19 in /home/hegnatin/projects/DS/.venv/lib/python3.4/site-packages (from sympy) (1.0.0)\n",
      "Requirement already satisfied: matplotlib in /home/hegnatin/projects/DS/.venv/lib/python3.4/site-packages (2.2.3)\n",
      "Requirement already satisfied: pyparsing!=2.0.4,!=2.1.2,!=2.1.6,>=2.0.1 in /home/hegnatin/projects/DS/.venv/lib/python3.4/site-packages (from matplotlib) (2.2.2)\n",
      "Requirement already satisfied: python-dateutil>=2.1 in /home/hegnatin/projects/DS/.venv/lib/python3.4/site-packages (from matplotlib) (2.7.3)\n",
      "Requirement already satisfied: kiwisolver>=1.0.1 in /home/hegnatin/projects/DS/.venv/lib/python3.4/site-packages (from matplotlib) (1.0.1)\n",
      "Requirement already satisfied: six>=1.10 in /home/hegnatin/projects/DS/.venv/lib/python3.4/site-packages (from matplotlib) (1.11.0)\n",
      "Requirement already satisfied: numpy>=1.7.1 in /home/hegnatin/projects/DS/.venv/lib/python3.4/site-packages (from matplotlib) (1.15.2)\n",
      "Requirement already satisfied: pytz in /home/hegnatin/projects/DS/.venv/lib/python3.4/site-packages (from matplotlib) (2018.5)\n",
      "Requirement already satisfied: cycler>=0.10 in /home/hegnatin/projects/DS/.venv/lib/python3.4/site-packages (from matplotlib) (0.10.0)\n",
      "Requirement already satisfied: setuptools in /home/hegnatin/projects/DS/.venv/lib/python3.4/site-packages (from kiwisolver>=1.0.1->matplotlib) (40.4.3)\n",
      "Requirement already satisfied: scipy in /home/hegnatin/projects/DS/.venv/lib/python3.4/site-packages (1.1.0)\n",
      "Requirement already satisfied: numpy>=1.8.2 in /home/hegnatin/projects/DS/.venv/lib/python3.4/site-packages (from scipy) (1.15.2)\n",
      "Requirement already satisfied: sklearn in /home/hegnatin/projects/DS/.venv/lib/python3.4/site-packages (0.0)\n",
      "Requirement already satisfied: scikit-learn in /home/hegnatin/projects/DS/.venv/lib/python3.4/site-packages (from sklearn) (0.20.0)\n",
      "Requirement already satisfied: numpy>=1.8.2 in /home/hegnatin/projects/DS/.venv/lib/python3.4/site-packages (from scikit-learn->sklearn) (1.15.2)\n",
      "Requirement already satisfied: scipy>=0.13.3 in /home/hegnatin/projects/DS/.venv/lib/python3.4/site-packages (from scikit-learn->sklearn) (1.1.0)\n",
      "Requirement already satisfied: pandas in /home/hegnatin/projects/DS/.venv/lib/python3.4/site-packages (0.22.0)\n",
      "Requirement already satisfied: numpy>=1.9.0 in /home/hegnatin/projects/DS/.venv/lib/python3.4/site-packages (from pandas) (1.15.2)\n",
      "Requirement already satisfied: python-dateutil>=2 in /home/hegnatin/projects/DS/.venv/lib/python3.4/site-packages (from pandas) (2.7.3)\n",
      "Requirement already satisfied: pytz>=2011k in /home/hegnatin/projects/DS/.venv/lib/python3.4/site-packages (from pandas) (2018.5)\n",
      "Requirement already satisfied: six>=1.5 in /home/hegnatin/projects/DS/.venv/lib/python3.4/site-packages (from python-dateutil>=2->pandas) (1.11.0)\n",
      "Collecting tqdm\n",
      "\u001b[?25l  Downloading https://files.pythonhosted.org/packages/79/43/19c9fee28110cd47f73e6bc596394337fe9f3e5825b4de402bbf30b3beb5/tqdm-4.26.0-py2.py3-none-any.whl (43kB)\n",
      "\u001b[K    100% |████████████████████████████████| 51kB 1.1MB/s ta 0:00:011\n",
      "\u001b[?25hInstalling collected packages: tqdm\n",
      "Successfully installed tqdm-4.26.0\n"
     ]
    }
   ],
   "source": [
    "!pip3 install numpy\n",
    "!pip3 install sympy\n",
    "!pip3 install matplotlib\n",
    "!pip3 install scipy\n",
    "!pip3 install sklearn\n",
    "!pip3 install pandas\n",
    "!pip3 install tqdm"
   ]
  },
  {
   "cell_type": "code",
   "execution_count": 8,
   "metadata": {},
   "outputs": [],
   "source": [
    "files = !ls ../data/30.05/"
   ]
  },
  {
   "cell_type": "code",
   "execution_count": 23,
   "metadata": {},
   "outputs": [],
   "source": [
    "import pandas as pd\n",
    "import tqdm"
   ]
  },
  {
   "cell_type": "code",
   "execution_count": 33,
   "metadata": {},
   "outputs": [],
   "source": [
    "data = list()"
   ]
  },
  {
   "cell_type": "code",
   "execution_count": 34,
   "metadata": {},
   "outputs": [
    {
     "name": "stderr",
     "output_type": "stream",
     "text": [
      "100%|██████████| 12/12 [00:00<00:00, 124.51it/s]"
     ]
    },
    {
     "name": "stdout",
     "output_type": "stream",
     "text": [
      "pa_recv__20170501_pcm0_rx_all_sms.csv\n",
      "pa_recv__20170501_pcm1_rx_all_sms.csv\n",
      "pa_recv__20170501_pcm2_rx_all_sms.csv\n",
      "pa_recv__20170501_pcm3_rx_all_sms.csv\n"
     ]
    },
    {
     "name": "stderr",
     "output_type": "stream",
     "text": [
      "\n"
     ]
    }
   ],
   "source": [
    "for file_name in tqdm.tqdm(files):\n",
    "    try:\n",
    "        data.append(pd.read_csv('../data/30.05/' + file_name))\n",
    "    except Exception:\n",
    "        print(file_name)"
   ]
  }
 ],
 "metadata": {
  "kernelspec": {
   "display_name": "Python 3",
   "language": "python",
   "name": "python3"
  },
  "language_info": {
   "codemirror_mode": {
    "name": "ipython",
    "version": 3
   },
   "file_extension": ".py",
   "mimetype": "text/x-python",
   "name": "python",
   "nbconvert_exporter": "python",
   "pygments_lexer": "ipython3",
   "version": "3.4.3"
  }
 },
 "nbformat": 4,
 "nbformat_minor": 2
}
